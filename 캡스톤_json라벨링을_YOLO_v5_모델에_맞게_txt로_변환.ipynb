{
  "nbformat": 4,
  "nbformat_minor": 0,
  "metadata": {
    "colab": {
      "provenance": [],
      "authorship_tag": "ABX9TyNieDVeNwARup2rJWzQiuQT",
      "include_colab_link": true
    },
    "kernelspec": {
      "name": "python3",
      "display_name": "Python 3"
    },
    "language_info": {
      "name": "python"
    }
  },
  "cells": [
    {
      "cell_type": "markdown",
      "metadata": {
        "id": "view-in-github",
        "colab_type": "text"
      },
      "source": [
        "<a href=\"https://colab.research.google.com/github/JunRepos/Capstone_AI/blob/main/%EC%BA%A1%EC%8A%A4%ED%86%A4_json%EB%9D%BC%EB%B2%A8%EB%A7%81%EC%9D%84_YOLO_v5_%EB%AA%A8%EB%8D%B8%EC%97%90_%EB%A7%9E%EA%B2%8C_txt%EB%A1%9C_%EB%B3%80%ED%99%98.ipynb\" target=\"_parent\"><img src=\"https://colab.research.google.com/assets/colab-badge.svg\" alt=\"Open In Colab\"/></a>"
      ]
    },
    {
      "cell_type": "code",
      "source": [
        "#필요 라이브러리\n",
        "from google.colab import drive\n",
        "import os\n",
        "import json\n"
      ],
      "metadata": {
        "id": "8IQFP5Rd7enH"
      },
      "execution_count": 2,
      "outputs": []
    },
    {
      "cell_type": "code",
      "execution_count": 3,
      "metadata": {
        "colab": {
          "base_uri": "https://localhost:8080/"
        },
        "id": "aFjYb1Ztxv6C",
        "outputId": "bab38de6-dff9-4549-c051-3b85a175fd8c"
      },
      "outputs": [
        {
          "output_type": "stream",
          "name": "stdout",
          "text": [
            "Mounted at /content/drive\n"
          ]
        }
      ],
      "source": [
        "#구글 드라이브 마운트\n",
        "drive.mount('/content/drive')"
      ]
    },
    {
      "cell_type": "code",
      "source": [
        "# 부품 종류 , 손상 종류 설정 및 경로 설정\n",
        "default_path = \"/content/drive/MyDrive/대학교/Capstone/Data/라벨링 데이터\"\n",
        "part_name = \"버트 조인트\"\n",
        "damage_name = \"언더컷\""
      ],
      "metadata": {
        "id": "40tnyuUz7n-3"
      },
      "execution_count": 4,
      "outputs": []
    },
    {
      "cell_type": "code",
      "source": [
        "# 경로에 있는 파일 이름 리스트로 저장\n",
        "import os\n",
        "\n",
        "path = default_path+'/'+part_name+'/'+damage_name\n",
        "file_list = os.listdir(path)\n",
        "print(\"File Size :\", len(file_list))"
      ],
      "metadata": {
        "colab": {
          "base_uri": "https://localhost:8080/"
        },
        "id": "IUKwwsQ1vUJB",
        "outputId": "9e61c517-6fe4-489f-80ba-1ded9d52ee17"
      },
      "execution_count": 5,
      "outputs": [
        {
          "output_type": "stream",
          "name": "stdout",
          "text": [
            "File Size : 1027\n"
          ]
        }
      ]
    },
    {
      "cell_type": "code",
      "source": [
        "#txt 변환 파일 저장 경로 생성\n",
        "\n",
        "#경로가 존재하지 않을 시 경로 생성\n",
        "path_txt =path+'/'+part_name+\"_\"+damage_name\n",
        "if ~(os.path.isdir(path_txt)):\n",
        "  os.mkdir(path_txt)"
      ],
      "metadata": {
        "id": "H6nZthN63p08"
      },
      "execution_count": 6,
      "outputs": []
    },
    {
      "cell_type": "code",
      "source": [
        "#json 에서 바운딩 박스 추출\n",
        "count = 0\n",
        "for file_name in file_list:\n",
        "  # 불량품일 경우만 bbox가 존재하므로 불량품 판별(20이 붙어있음)\n",
        "  if file_name[8] == '2':\n",
        "    with open(path+'/'+file_name, 'r') as f:\n",
        "      count+= 1\n",
        "      # json 파일 읽기\n",
        "      json_data = json.load(f)\n",
        "      # bbox 위치 파악\n",
        "      json_data_list = json_data[\"annotations\"]\n",
        "      json_data_str = str(json_data_list)\n",
        "      bbox_index = json_data_str.find('bbox')\n",
        "      iscrowd_index = json_data_str.find('iscrowd')\n",
        "      bbox_str = json_data_str[bbox_index+8:iscrowd_index-4]\n",
        "\n",
        "      file = open(path_txt+'/'+file_name[:-5]+\".txt\", \"w\") \n",
        "      file.write(bbox_str)\n",
        "      file.close()\n",
        "print(\"Size :\", count)\n"
      ],
      "metadata": {
        "id": "6evM4BT_vdw-",
        "colab": {
          "base_uri": "https://localhost:8080/"
        },
        "outputId": "4d925180-6f48-460b-c695-28b332888154"
      },
      "execution_count": 8,
      "outputs": [
        {
          "output_type": "stream",
          "name": "stdout",
          "text": [
            "Size : 601\n"
          ]
        }
      ]
    }
  ]
}